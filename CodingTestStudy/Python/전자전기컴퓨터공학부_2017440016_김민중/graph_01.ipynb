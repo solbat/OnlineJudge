{
 "cells": [
  {
   "cell_type": "markdown",
   "id": "25db92e0",
   "metadata": {},
   "source": [
    "# 네카라쿠배 코딩테스트 스터디 최종 과제\n",
    "\n",
    "\n",
    "### 서울시립대학교 전자전기컴퓨터공학부 2017440016 김민중"
   ]
  },
  {
   "cell_type": "markdown",
   "id": "978ef083",
   "metadata": {},
   "source": [
    "# 4주차 Graph 문제 01"
   ]
  },
  {
   "cell_type": "markdown",
   "id": "31b40d07",
   "metadata": {},
   "source": [
    "## 1) 문제 : 팀플 결성하기\n",
    "\n",
    "알고리즘 과목 수업에는 0번부터 N번까지의 번호가 부여된 학생들이 있다. 처음에는 모든 학생들이 서로 다른 팀으로 구분되어, 총 N+1개의 팀이 존재한다. 이때 교수님은 '팀 합치기'와 '같은 팀 여부 확인' 명령을 할 수 있다.\n",
    "\n",
    "1. '팀 합치기'는 두 팀을 합치는 명령이다.\n",
    "2. '같은 팀 여부 확인'은 특정한 두 학생이 같은 팀에 속하는지를 확인하는 명령이다.\n",
    "\n",
    "교수님이 M개의 명령을 할 수 있을 때, '같은 팀 여부 확인' 명령에 대한 결과를 출력하는 프로그램을 작성하시오.\n",
    "\n",
    "- 입력 조건\n",
    "    - 첫째 줄에 N, M이 주어진다. M은 입력으로 주어지는 명령의 개수이다. (1 <= N,M <= 100,000)\n",
    "    - 다음 M개의 줄에는 각각의 명령이 주어진다.\n",
    "    - '팀 합치기' 명령은 0 a b 형태로 주어진다. 이는 a번 학생이 속한 팀과 b번 학생이 속한 팀을 합친다는 의미이다.\n",
    "    - '같은 팀 여부 확인' 명령은 1 a b 형태로 주어진다. 이는 a번 학생과 b번 학생이 같은 팀에 속해 있는지 여부를 확인하는 명령이다.\n",
    "    - a와 b는 N 이하의 양의 정수이다.\n",
    "- 출력 조건\n",
    "    - '같은 팀 여부 확인' 명령에 대하여 한 줄에 하나씩 YES 혹은 NO로 결과를 출력한다.\n",
    "- 예시\n",
    "    - 입력\n",
    "        \n",
    "        7 8\n",
    "        \n",
    "        0 1 3\n",
    "        \n",
    "        1 1 7\n",
    "        \n",
    "        0 7 6\n",
    "        \n",
    "        1 7 1\n",
    "        \n",
    "        0 3 7\n",
    "        \n",
    "        0 4 2\n",
    "        \n",
    "        0 1 1\n",
    "        \n",
    "        1 1 1\n",
    "        \n",
    "    - 출력\n",
    "        \n",
    "        NO\n",
    "        \n",
    "        NO\n",
    "        \n",
    "        YES"
   ]
  },
  {
   "cell_type": "markdown",
   "id": "05040589",
   "metadata": {},
   "source": [
    "## 2) 풀이\n",
    "\n",
    "전형적인 서로소 집합 알고리즘 문제로 N과 M의 범위가 모두 최대 100,000이다. 따라서 경로 압축 방식의 서로소 집합 자료구조를 이용하여 시간 복잡도를 개선해야 한다."
   ]
  },
  {
   "cell_type": "markdown",
   "id": "5ee352f8",
   "metadata": {},
   "source": [
    "## 3) 코드"
   ]
  },
  {
   "cell_type": "code",
   "execution_count": null,
   "id": "53a9a05a",
   "metadata": {},
   "outputs": [],
   "source": [
    "# 특정 학생가 속한 집합을 찾기\n",
    "def find_parent(parent, x):\n",
    "    # 루트 노드가 아니라면, 루트 노드를 찾을 때까지 재귀적으로 호출\n",
    "    if parent[x] != x:\n",
    "        parent[x] = find_parent(parent, parent[x])\n",
    "    return parent[x]\n",
    "\n",
    "# 두 학생이 속한 집합을 합치기\n",
    "def union_parent(parent, a, b):\n",
    "    a = find_parent(parent, a)\n",
    "    b = find_parent(parent, b)\n",
    "    if a < b:\n",
    "        parent[b] = a\n",
    "    else:\n",
    "        parent[a] = b\n",
    "\n",
    "n, m = map(int, input().split())\n",
    "parent = [0] * (n+1) # 부모 테이블 초기화\n",
    "\n",
    "# 부모 테이블상에서, 부모를 자기 자신으로 초기화\n",
    "for i in range(0, n+1):\n",
    "    parent[i] = i\n",
    "\n",
    "# 각 명령을 하나씩 확인\n",
    "for i in range(m):\n",
    "    oper, a, b = map(int, input().split())\n",
    "    # 합집합(union) 연산인 경우\n",
    "    if oper == 0:\n",
    "        union_parent(parent, a, b)\n",
    "    # 찾기(find) 연산인 경우\n",
    "    elif oper == 1:\n",
    "        if find_parent(parent, a) == find_parent(parent, b):\n",
    "            print('YES')\n",
    "        else:\n",
    "            print('NO')"
   ]
  }
 ],
 "metadata": {
  "kernelspec": {
   "display_name": "Python 3 (ipykernel)",
   "language": "python",
   "name": "python3"
  },
  "language_info": {
   "codemirror_mode": {
    "name": "ipython",
    "version": 3
   },
   "file_extension": ".py",
   "mimetype": "text/x-python",
   "name": "python",
   "nbconvert_exporter": "python",
   "pygments_lexer": "ipython3",
   "version": "3.8.5"
  }
 },
 "nbformat": 4,
 "nbformat_minor": 5
}
