{
 "cells": [
  {
   "cell_type": "markdown",
   "id": "25db92e0",
   "metadata": {},
   "source": [
    "# 네카라쿠배 코딩테스트 스터디 최종 과제\n",
    "\n",
    "\n",
    "### 서울시립대학교 전자전기컴퓨터공학부 2017440016 김민중"
   ]
  },
  {
   "cell_type": "markdown",
   "id": "978ef083",
   "metadata": {},
   "source": [
    "# 4주차 Graph 문제 02"
   ]
  },
  {
   "cell_type": "markdown",
   "id": "31b40d07",
   "metadata": {},
   "source": [
    "## 1) 문제 : 나라 분할 계획\n",
    "\n",
    "어느 강대국 A와 B가 어느 작은 나라를 분할하여 통치할 계획을 세우고 있었다. 이 나라는 N개의 도시와 그 도시들을 연결하는 M개의 길로 이루어져 있다. 길은 양방향으로 다닐 수 있으며 길마다 길을 유지하는데 드는 유지비가 있다. 나라를 분할할 때는 각 분리된 나라 안에 도시들이 서로 연결되도록 분할해야 한다. 각 분리된 나라 안에 있는 임의의 두 도시 사이에 경로가 항상 존재해야 한다는 뜻이다. 나라에는 도시가 하나 이상 있어야 한다.\n",
    "\n",
    "그렇게 강대국 A와 B는 나라를 분할할 계획을 세우다가 나라 안에 길들을 최소화하여 피지배 나라의 국민들이 서로 소통할 수 없도록 할 생각을 하게 되었다. 일단 분리된 두 나라 사이에 있는 길들은 필요가 없으므로 없앨 수 있다. 그리고 각 분리된 나라 안에서도 임의의 두 도시 사이에 경로가 항상 존재하게 하면서 길을 더 없앨 수 있다. 강대국 A와 B는 위 조건을 만족하도록 길들을 모두 없애고 나머지 길의 유지비의 합을 최소로 하고 싶다. 이것을 구하는 프로그램을 작성하시오.\n",
    "\n",
    "- 입력 조건\n",
    "    - 첫째 줄에 도시의 개수 N, 길의 개수 M이 주어진다. N은 2 이상 100,000 이하인 정수이고, M은 1 이상 1,000,000 이하인 정수이다.\n",
    "    - 그다음 줄부터 M줄에 걸쳐 길의 정보가 A, B, C 3개의 정수로 공백으로 구분되어 주어지는데 A번 도시와 B번 도시를 연결하는 길의 유지비가 C(1 <= C <= 1,000)라는 뜻이다.\n",
    "- 출력 조건\n",
    "    - 첫째 줄에 길을 없애고 남은 유지비 합의 최솟값을 출력한다.\n",
    "- 예시\n",
    "    - 입력\n",
    "        \n",
    "        7 12\n",
    "        \n",
    "        1 2 3\n",
    "        \n",
    "        1 3 2\n",
    "        \n",
    "        3 2 1\n",
    "        \n",
    "        2 5 2\n",
    "        \n",
    "        3 4 4\n",
    "        \n",
    "        7 3 6\n",
    "        \n",
    "        5 1 5\n",
    "        \n",
    "        1 6 2\n",
    "        \n",
    "        6 4 1\n",
    "        \n",
    "        6 5 3\n",
    "        \n",
    "        4 5 3\n",
    "        \n",
    "        6 7 4\n",
    "        \n",
    "    - 출력\n",
    "        \n",
    "        8"
   ]
  },
  {
   "cell_type": "markdown",
   "id": "05040589",
   "metadata": {},
   "source": [
    "## 2) 풀이\n",
    "\n",
    "이 문제의 핵심 아이디어는 전체 그래프에서 2개의 최소 신장 트리를 만들어야 한다는 것이다. 최소한의 비용으로 2개의 신장 트리로 분할하려면 크루스칼 알고리즘으로 최소 신장 트리를 찾은 뒤에 최소 신장 트리를 구성하는 간선 중에서 가장 비용이 큰 간선을 제거하는 것이다. 그러면 최소 신장 트리가 2개의 부분 그래프로 나누어지며, 문제에서 요구하는 최적의 해를 만족한다. 따라서 최소 신장 트리를 찾은 뒤에 가장 큰 간선을 제거하는 소스코드를 작성하면 다음과 같다."
   ]
  },
  {
   "cell_type": "markdown",
   "id": "5ee352f8",
   "metadata": {},
   "source": [
    "## 3) 코드"
   ]
  },
  {
   "cell_type": "code",
   "execution_count": null,
   "id": "53a9a05a",
   "metadata": {},
   "outputs": [],
   "source": [
    "# 특정 원소가 속한 집합을 찾기\n",
    "def find_parent(parent, x):\n",
    "    # 루트 노드가 아니라면, 루트 노드를 찾을 때까지 재귀적으로 호출\n",
    "    if parent[x] != x:\n",
    "        parent[x] = find_parent(parent, parent[x])\n",
    "    return parent[x]\n",
    "\n",
    "# 두 원소가 속한 집합을 합치기\n",
    "def union_parent(parent, a, b):\n",
    "    a = find_parent(a)\n",
    "    b = find_parent(b)\n",
    "    if a < b:\n",
    "        parent[b] = a\n",
    "    else:\n",
    "        parent[a] = b\n",
    "\n",
    "# 노드의 개수와 간선(union 연산)의 개수 입력받기\n",
    "v, e = map(int, input().split())\n",
    "parent = [0] * (v+1) #부모 테이블 초기화\n",
    "\n",
    "# 모든 간선을 담을 리스트와 최종 비용을 담을 변수\n",
    "edges = []\n",
    "result = 0\n",
    "\n",
    "# 부모 테이블상에서, 부모를 자기 자신으로 초기화\n",
    "for i in range(1, v+1):\n",
    "    parent[i] = i\n",
    "\n",
    "# 모든 간선에 대한 정보를 입력받기\n",
    "for _ in range(e):\n",
    "    a, b, cost = map(int, input().split())\n",
    "    edges.append((cost, a, b))\n",
    "\n",
    "# 간선을 비용순으로 정렬\n",
    "edges.sort()\n",
    "last = 0 # 최소 신장 트리에 포함되는 간선 중에서 가장 비용이 큰 간선\n",
    "\n",
    "# 간선을 하나씩 확인하며\n",
    "for edge in edges:\n",
    "    cost, a, b = edge\n",
    "    # 사이클이 발생하지 않는 경우에만 집합에 포함\n",
    "    if find_parent(parent, a) != find_parent(parent, b):\n",
    "        union_parent(parent, a, b)\n",
    "        result += cost\n",
    "        last = cost\n",
    "\n",
    "print(result - last)"
   ]
  }
 ],
 "metadata": {
  "kernelspec": {
   "display_name": "Python 3 (ipykernel)",
   "language": "python",
   "name": "python3"
  },
  "language_info": {
   "codemirror_mode": {
    "name": "ipython",
    "version": 3
   },
   "file_extension": ".py",
   "mimetype": "text/x-python",
   "name": "python",
   "nbconvert_exporter": "python",
   "pygments_lexer": "ipython3",
   "version": "3.8.5"
  }
 },
 "nbformat": 4,
 "nbformat_minor": 5
}
