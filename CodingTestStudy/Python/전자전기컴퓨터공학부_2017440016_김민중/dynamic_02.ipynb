{
 "cells": [
  {
   "cell_type": "markdown",
   "id": "25db92e0",
   "metadata": {},
   "source": [
    "# 네카라쿠배 코딩테스트 스터디 최종 과제\n",
    "\n",
    "\n",
    "### 서울시립대학교 전자전기컴퓨터공학부 2017440016 김민중"
   ]
  },
  {
   "cell_type": "markdown",
   "id": "978ef083",
   "metadata": {},
   "source": [
    "# 3주차 Dynamic Programming 문제 02"
   ]
  },
  {
   "cell_type": "markdown",
   "id": "31b40d07",
   "metadata": {},
   "source": [
    "## 1) 문제 : 가우디의 타일 공사\n",
    "\n",
    "세계적인 스페인의 건축가 안토니 가우디는 건축물을 장식하는데 있어서 타일을 많이 사용하였다. 구엘 공원에 가로의 길이가 N, 세로의 길이가 2인 직사각형 형태의 벽면이 있다. 가우디는 이 벽면을 1 X 2의 타일, 2 X 1의 타일, 2 X 2의 타일을 이용해 채우고자 한다. 이때 벽면을 채우는 모든 경우의 수를 구하는 프로그램을 작성하시오.\n",
    "\n",
    "예를 들어 2 X 3 크기(세로X가로)의 벽면을 채우는 경우의 수는 5가지이다.\n",
    "\n",
    "- 입력 조건\n",
    "    - 첫째 줄에 정수 N이 주어진다. (1 <= N <= 500)\n",
    "- 출력 조건\n",
    "    - 첫째 줄에 2 X N 크기(세로X가로)의 벽면을 채우는 방법의 수를 출력한다.\n",
    "- 예시\n",
    "    - 입력\n",
    "        \n",
    "        3\n",
    "        \n",
    "    - 출력\n",
    "        \n",
    "        5"
   ]
  },
  {
   "cell_type": "markdown",
   "id": "05040589",
   "metadata": {},
   "source": [
    "## 2) 풀이\n",
    "\n",
    "이 문제는 다이나믹 프로그래밍 문제이다. 왼쪽부터 차례대로 벽면을 타일으로 채운다고 생각하면 다음과 같이 점화식을 세울 수 있다.\n",
    "(1)\t왼쪽부터 n – 1까지의 길이가 타일로 이미 채워져 있으면 2 X 1의 타일을 채우는 하나의 경우밖에 존재하지 않는다.\n",
    "(2)\t왼쪽부터 n – 2까지의 길이가 타일로 이미 채워져 있으면 1 X 2 타일 2개를 넣는 경우, 혹은 2 X 2의 타일 하나를 넣는 경우로 2가지 경우가 존재한다. 2 X 1 타일 2개를 넣는 경우를 고려하지 않는 이유는 (1)에서 이미 해당 경우가 고려되었기 때문이다.\n",
    "\n",
    "이를 점화식으로 표현하면 다음과 같다.\n",
    "\n",
    "f(n) = f(n-1) + f(n-2) X 2\n",
    "\n",
    "따라서 이 점화식을 토대로 bottom-up 다이나믹 프로그래밍으로 소스코드를 작성해보자."
   ]
  },
  {
   "cell_type": "markdown",
   "id": "5ee352f8",
   "metadata": {},
   "source": [
    "## 3) 코드"
   ]
  },
  {
   "cell_type": "code",
   "execution_count": null,
   "id": "53a9a05a",
   "metadata": {},
   "outputs": [],
   "source": [
    "# 정수 X를 입력받기\n",
    "x = int(input())\n",
    "\n",
    "# 앞서 계산된 결과를 저장하기 위한 DP 테이블 초기화\n",
    "d = [0] * 30001\n",
    "\n",
    "# 다이나믹 프로그래밍(Dynamic Programming) 진행(보텀업)\n",
    "for i in range(2, x+1):\n",
    "    # 현재의 수에서 1을 빼는 경우\n",
    "    d[i] = d[i-1] + 1\n",
    "    # 현재의 수가 2로 나누어 떨어지는 경우\n",
    "    if i%2 == 0:\n",
    "        d[i] = min(d[i], d[i//2]+1)\n",
    "    # 현재의 수가 3로 나누어 떨어지는 경우\n",
    "    if i%3 == 0:\n",
    "        d[i] = min(d[i], d[i//3]+1)\n",
    "    # 현재의 수가 7로 나누어 떨어지는 경우\n",
    "    if i%5 == 0:\n",
    "        d[i] = min(d[i], d[i//7]+1)\n",
    "    \n",
    "print(d[x])"
   ]
  }
 ],
 "metadata": {
  "kernelspec": {
   "display_name": "Python 3 (ipykernel)",
   "language": "python",
   "name": "python3"
  },
  "language_info": {
   "codemirror_mode": {
    "name": "ipython",
    "version": 3
   },
   "file_extension": ".py",
   "mimetype": "text/x-python",
   "name": "python",
   "nbconvert_exporter": "python",
   "pygments_lexer": "ipython3",
   "version": "3.8.5"
  }
 },
 "nbformat": 4,
 "nbformat_minor": 5
}
