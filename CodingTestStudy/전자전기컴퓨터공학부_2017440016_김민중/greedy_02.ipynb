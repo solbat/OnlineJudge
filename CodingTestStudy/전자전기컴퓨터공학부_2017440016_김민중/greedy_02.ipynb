{
 "cells": [
  {
   "cell_type": "markdown",
   "id": "25db92e0",
   "metadata": {},
   "source": [
    "# 네카라쿠배 코딩테스트 스터디 최종 과제\n",
    "\n",
    "\n",
    "### 서울시립대학교 전자전기컴퓨터공학부 2017440016 김민중"
   ]
  },
  {
   "cell_type": "markdown",
   "id": "978ef083",
   "metadata": {},
   "source": [
    "# 1주차 Greedy 문제 02"
   ]
  },
  {
   "cell_type": "markdown",
   "id": "31b40d07",
   "metadata": {},
   "source": [
    "## 1) 문제 : 1이 될 때까지\n",
    "\n",
    "임의의 수 N이 1이 될 때까지 다음의 두 과정 중 하나를 반복적으로 선택하여 수행하려고 한다.\n",
    "\n",
    "1. N에서 1을 뺀다.\n",
    "2. N을 K로 나눈다.\n",
    "\n",
    "N과 K가 주어질 때 N이 1이 될 때까지 1번 혹은 2번의 과정을 수행해야 하는 최소 횟수를 구하는 프로그램을 작성하시오.\n",
    "\n",
    "- 입력 조건\n",
    "    - 첫째 줄에 N(2 <= N <= 100,000)과 K(2 <= N <= 100,000)가 공백으로 구분되며 각각 자연수로 주어진다. 이때 입력으로 주어지는 N은 항상 K보다 크거나 같다.\n",
    "- 출력 조건\n",
    "    - 첫째 줄에 N이 1이 될 때까지 1번 혹은 2번의 과정을 수행해야 하는 횟수의 최솟값을 출력한다.\n",
    "- 예시\n",
    "    - 입력\n",
    "        \n",
    "        25 5\n",
    "        \n",
    "    - 출력\n",
    "        \n",
    "        2    "
   ]
  },
  {
   "cell_type": "markdown",
   "id": "05040589",
   "metadata": {},
   "source": [
    "## 2) 풀이\n",
    "\n",
    "이 문제는 전형적인 greedy 문제이다. greedy 문제는 greedy 아이디어와 그 아이디어가 optimal한 결과를 보장하는지 이 두 가지를 생각해야 한다. 이 문제에서는 최대한 많이 나누기라는 아이디어로 코드를 구현하면 되는데, 왜냐하면 2 이상의 자연수로 나누는 것이 1을 빼는 것보다 무조건 숫자를 훨씬 많이 줄일 수 있기 때문이다."
   ]
  },
  {
   "cell_type": "markdown",
   "id": "5ee352f8",
   "metadata": {},
   "source": [
    "## 3) 코드"
   ]
  },
  {
   "cell_type": "code",
   "execution_count": 2,
   "id": "53a9a05a",
   "metadata": {},
   "outputs": [
    {
     "name": "stdout",
     "output_type": "stream",
     "text": [
      "25 5\n",
      "2\n"
     ]
    }
   ],
   "source": [
    "n, k = map(int, input().split())\n",
    "result = 0\n",
    "\n",
    "while(True):\n",
    "    if n>=k:\n",
    "        t = n%k\n",
    "        result += t\n",
    "        n -= t\n",
    "        n /= k\n",
    "        result += 1\n",
    "    else:\n",
    "        n -= 1\n",
    "        result += 1\n",
    "    \n",
    "    if n==1:\n",
    "        break\n",
    "\n",
    "result = int(result)\n",
    "print(result)"
   ]
  }
 ],
 "metadata": {
  "kernelspec": {
   "display_name": "Python 3 (ipykernel)",
   "language": "python",
   "name": "python3"
  },
  "language_info": {
   "codemirror_mode": {
    "name": "ipython",
    "version": 3
   },
   "file_extension": ".py",
   "mimetype": "text/x-python",
   "name": "python",
   "nbconvert_exporter": "python",
   "pygments_lexer": "ipython3",
   "version": "3.8.5"
  }
 },
 "nbformat": 4,
 "nbformat_minor": 5
}
