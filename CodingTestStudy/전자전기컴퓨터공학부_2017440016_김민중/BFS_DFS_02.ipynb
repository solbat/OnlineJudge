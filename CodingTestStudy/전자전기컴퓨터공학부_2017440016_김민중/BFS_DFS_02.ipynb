{
 "cells": [
  {
   "cell_type": "markdown",
   "id": "25db92e0",
   "metadata": {},
   "source": [
    "# 네카라쿠배 코딩테스트 스터디 최종 과제\n",
    "\n",
    "\n",
    "### 서울시립대학교 전자전기컴퓨터공학부 2017440016 김민중"
   ]
  },
  {
   "cell_type": "markdown",
   "id": "978ef083",
   "metadata": {},
   "source": [
    "# 2주차 BFS DFS 문제 02"
   ]
  },
  {
   "cell_type": "markdown",
   "id": "31b40d07",
   "metadata": {},
   "source": [
    "## 1) 문제 : 똥 피하기\n",
    "\n",
    "인규는 N X M 크기의 직사각형 형태의 지형에 있다. 지형의 곳곳에는 똥이 있으며 인규는 이를 피해 최종 목적지에 도달해야 한다. 인규의 위치는 (1, 1)이고 목적지는 (N, M)에 있다. 인규는 한 칸씩 이동할 수 있으며, 똥이 있는 부분은 0으로, 없는 부분은 1로 표시되어 있다. 지형은 반드시 목적지에 도달할 수 있는 형태로 제시된다. 이때 인규가 목적지에 도달하기 위해 움직여야 하는 최소 칸의 개수를 구하시오. 칸을 셀 때는 시작 칸과 마지막 칸을 모두 포함해서 계산한다.\n",
    "\n",
    "- 입력 조건\n",
    "    - 첫째 줄에 두 정수 N, M(4 <= M, M <= 200)이 주어집니다. 다음 N개의 줄에는 각각 M개의 정수(0 혹은 1)로 지형의 정보가 주어진다.\n",
    "    - 각각의 수들은 공백 없이 붙어서 입력으로 제시된다.\n",
    "    - 시작 칸과 마지막 칸은 항상 1이다.\n",
    "- 출력 조건\n",
    "    - 첫째 줄에 최소 이동 칸의 개수를 출력한다.\n",
    "- 예시\n",
    "    - 입력\n",
    "        \n",
    "        5 6\n",
    "        \n",
    "        101010\n",
    "        \n",
    "        111111\n",
    "        \n",
    "        000001\n",
    "        \n",
    "        111111\n",
    "        \n",
    "        111111\n",
    "        \n",
    "    - 출력\n",
    "        \n",
    "        10"
   ]
  },
  {
   "cell_type": "markdown",
   "id": "05040589",
   "metadata": {},
   "source": [
    "## 2) 풀이\n",
    "\n",
    "이 문제는 BFS를 이용했을 때 효과적으로 해결할 수 있다. BFS는 시작 지점에서 가까운 노드부터 차례대로 그래프의 모든 노드를 탐색하기 때문이다. 그러므로 (1, 1) 지점에서부터 BFS를 수행하여 모든 노드들의 값을 거리 정보로 넣으면 된다. 특정한 노드를 방문하면 그 이전 노드의 거리에 1을 더한 값을 리스트에 넣는다."
   ]
  },
  {
   "cell_type": "markdown",
   "id": "5ee352f8",
   "metadata": {},
   "source": [
    "## 3) 코드"
   ]
  },
  {
   "cell_type": "code",
   "execution_count": null,
   "id": "53a9a05a",
   "metadata": {},
   "outputs": [],
   "source": [
    "from collections import deque\n",
    "\n",
    "# N M 값 입력 \n",
    "n, m  = map(int, input().split())\n",
    "\n",
    "# NxM 맵 정보 입력\n",
    "graph = []\n",
    "for _ in range(n):\n",
    "    graph.append(list(map(int, input())))\n",
    "\n",
    "# 상 하 좌 우 정의\n",
    "dx = [-1, 1, 0, 0]\n",
    "dy = [0, 0, -1, 1]\n",
    "\n",
    "# BFS\n",
    "def bfs(x, y):\n",
    "    # 큐(Queue) 구현을 위해 deque 라이브러리 사용\n",
    "    queue = deque()\n",
    "    queue.append((x, y))\n",
    "    # 큐가 빌 때까지 반복\n",
    "    while queue:\n",
    "        x, y = queue.popleft()\n",
    "        # 현재 위치에서 네 방향으로의 위치 확인\n",
    "        for i in range(4):\n",
    "            nx = x + dx[i]\n",
    "            ny = y + dy[i]\n",
    "            # 지형 공간을 벗어난 경우 무시\n",
    "            if nx<0 or ny<0 or nx>=n or ny>= m:\n",
    "                continue\n",
    "            # 똥인 경우 무시\n",
    "            if graph[nx][ny] == 0:\n",
    "                continue\n",
    "            # 해당 노드를 처음 방문하는 경우에만 최단 거리 기록\n",
    "            if graph[nx][ny] == 1:\n",
    "                graph[nx][ny] = graph[x][y] + 1\n",
    "                queue.append((nx, ny))\n",
    "    # 가장 오른쪽 아래까지의 최단 거리 반환\n",
    "    return graph[n-1][m-1]\n",
    "\n",
    "# BFS를 수행한 결과 출력\n",
    "print(bfs(0,0))"
   ]
  }
 ],
 "metadata": {
  "kernelspec": {
   "display_name": "Python 3 (ipykernel)",
   "language": "python",
   "name": "python3"
  },
  "language_info": {
   "codemirror_mode": {
    "name": "ipython",
    "version": 3
   },
   "file_extension": ".py",
   "mimetype": "text/x-python",
   "name": "python",
   "nbconvert_exporter": "python",
   "pygments_lexer": "ipython3",
   "version": "3.8.5"
  }
 },
 "nbformat": 4,
 "nbformat_minor": 5
}
