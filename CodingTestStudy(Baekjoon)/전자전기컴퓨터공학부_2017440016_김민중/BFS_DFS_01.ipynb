{
 "cells": [
  {
   "cell_type": "markdown",
   "id": "25db92e0",
   "metadata": {},
   "source": [
    "# 네카라쿠배 코딩테스트 스터디 최종 과제\n",
    "\n",
    "\n",
    "### 서울시립대학교 전자전기컴퓨터공학부 2017440016 김민중"
   ]
  },
  {
   "cell_type": "markdown",
   "id": "978ef083",
   "metadata": {},
   "source": [
    "# 2주차 BFS DFS 문제 01"
   ]
  },
  {
   "cell_type": "markdown",
   "id": "31b40d07",
   "metadata": {},
   "source": [
    "## 1) 문제 : 섬이 많은 나라 인도네시아\n",
    "\n",
    "인도네시아 특정 지역을 나타내는 N X M 크기의 지도가 있다. 섬은 0, 바다는 1로 표시된다. 섬은 상, 하, 좌, 우로 붙어 있는 경우 서로 연결되어 있는 것으로 간주한다. 특정 지도가 주어졌을 때, 지도 상의 연결된 섬의 개수를 구하는 프로그램을 작성하시오.\n",
    "\n",
    "- 입력 조건\n",
    "    - 첫 번째 줄에 지도의 세로 길이 N과 가로 길이 M이 주어진다. (1 <= N, M <= 1,000)\n",
    "    - 두 번째 줄부터 N+1번째 줄까지 지도의 형태가 주어진다.\n",
    "    - 이때 섬은 0, 바다는 1이다.\n",
    "- 출력 조건\n",
    "    - 지도 상의 연결된 섬의 개수를 출력한다.\n",
    "- 예시\n",
    "    - 입력\n",
    "        \n",
    "        00110\n",
    "        \n",
    "        00011\n",
    "        \n",
    "        11111\n",
    "        \n",
    "        00000\n",
    "        \n",
    "    - 출력\n",
    "        \n",
    "        3        "
   ]
  },
  {
   "cell_type": "markdown",
   "id": "05040589",
   "metadata": {},
   "source": [
    "## 2) 풀이\n",
    "\n",
    "이 문제는 DFS로 해결할 수 있다. 섬이 상, 하, 좌, 우로 연결되어 있다고 표현할 수 있으므로 그래프 형태로 모델링 할 수 있다.\n",
    "\n",
    "1. 특정한 지점의 주변 상, 하, 좌, 우를 살펴본 뒤에 주변 지점 중에서 값이 ‘0’이면서 아직 방문하지 않은 지점이 있다면 해당 지점을 방문한다.\n",
    "2. 방문한 지점에서 다시 상, 하, 좌, 우를 살펴보면서 방문을 다시 진행하면, 연결된 모든 지점을 방문할 수 있다.\n",
    "3. 1~2번의 과정을 모든 노드에 반복하며 방문하지 않은 지점의 수를 센다."
   ]
  },
  {
   "cell_type": "markdown",
   "id": "5ee352f8",
   "metadata": {},
   "source": [
    "## 3) 코드"
   ]
  },
  {
   "cell_type": "code",
   "execution_count": null,
   "id": "53a9a05a",
   "metadata": {},
   "outputs": [],
   "source": [
    "# 세로 길이 N, 가로 길이 M\n",
    "n, m = map(int, input().split())\n",
    "\n",
    "# 지도 입력\n",
    "array = []\n",
    "for _ in range(n):\n",
    "    array.append(list(map(int, input())))\n",
    "\n",
    "# DFS로 특정 노드 방문 후 연결된 모든 노드를 방문\n",
    "def dfs(x, y):\n",
    "    # 주어진 범위를 벗어나는 경우에는 즉시 종료\n",
    "    if x <= -1 or x >= n or y <= -1 or y >= m:\n",
    "        return False\n",
    "    # 현재 노드를 아직 방문하지 않았다면\n",
    "    if tray[x][y] == 0:\n",
    "        # 해당 노드를 방문 처리\n",
    "        tray[x][y] = 1\n",
    "        # 상 하 좌 우 위치도 모두 재귀적으로 호출\n",
    "        dfs(x-1, y)\n",
    "        dfs(x+1, y)\n",
    "        dfs(x, y-1)\n",
    "        dfs(x, y+1)\n",
    "        return True\n",
    "    # 현재 노드가 방문되었다면\n",
    "    return False\n",
    "\n",
    "# 모든 위치에 대하여 섬의 개수 카운트\n",
    "result = 0\n",
    "for i in range(n):\n",
    "    for j in range(m):\n",
    "        # 현재 위치에서 DFS 수행\n",
    "        if dfs(i, j) == True:\n",
    "            result += 1\n",
    "\n",
    "print(result)"
   ]
  }
 ],
 "metadata": {
  "kernelspec": {
   "display_name": "Python 3 (ipykernel)",
   "language": "python",
   "name": "python3"
  },
  "language_info": {
   "codemirror_mode": {
    "name": "ipython",
    "version": 3
   },
   "file_extension": ".py",
   "mimetype": "text/x-python",
   "name": "python",
   "nbconvert_exporter": "python",
   "pygments_lexer": "ipython3",
   "version": "3.8.5"
  }
 },
 "nbformat": 4,
 "nbformat_minor": 5
}
