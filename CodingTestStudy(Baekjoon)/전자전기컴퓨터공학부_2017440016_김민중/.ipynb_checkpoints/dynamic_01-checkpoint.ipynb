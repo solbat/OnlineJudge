{
 "cells": [
  {
   "cell_type": "markdown",
   "id": "25db92e0",
   "metadata": {},
   "source": [
    "# 네카라쿠배 코딩테스트 스터디 최종 과제\n",
    "\n",
    "\n",
    "### 서울시립대학교 전자전기컴퓨터공학부 2017440016 김민중"
   ]
  },
  {
   "cell_type": "markdown",
   "id": "978ef083",
   "metadata": {},
   "source": [
    "# 3주차 Dynamic Programming 문제 01"
   ]
  },
  {
   "cell_type": "markdown",
   "id": "31b40d07",
   "metadata": {},
   "source": [
    "## 1) 문제 : 1로 만들기\n",
    "\n",
    "정수 X가 주어질 때 정수 X에 사용할 수 있는 연산은 다음과 같이 4가지이다.\n",
    "1. a.\tX가 7로 나누어떨어지면, 7로 나눈다.\n",
    "2.\tX가 3으로 나누어떨어지면, 3으로 나눈다.\n",
    "3.\tX가 2로 나누어떨어지면, 2로 나눈다.\n",
    "4.\tX에서 1을 뺀다.\n",
    "\n",
    "정수 X가 주어졌을 때, 연산 4개를 적절히 사용해서 1을 만들려고 한다. 연산을 사용하는 횟수의 최솟값을 출력하시오.\n",
    "\n",
    "예를 들어 정수 X가 50이면 다음과 같이 계산해서 3번의 연산이 최솟값이다.\n",
    "1.\t50 – 1 = 49 (d)\n",
    "2.\t49 / 7 = 7 (a)\n",
    "3.\t7 / 7 = 1 (a)\n",
    "\n",
    "- 입력 조건\n",
    "    - 첫째 줄에 정수 X가 주어진다. (1 <= X <= 30,000)\n",
    "- 출력 조건\n",
    "    - 첫째 줄에 연산을 하는 횟수의 최솟값을 출력한다.\n",
    "- 예시\n",
    "    - 입력\n",
    "        \n",
    "        50\n",
    "        \n",
    "    - 출력\n",
    "        \n",
    "        3        "
   ]
  },
  {
   "cell_type": "markdown",
   "id": "05040589",
   "metadata": {},
   "source": [
    "## 2) 풀이\n",
    "\n",
    "이 문제는 다이나믹 프로그래밍 문제이다. 점화식으로 표현하면 다음과 같다.\n",
    "\n",
    "f(n) = min( f(n/7), f(n/3), f(n/2) ) + 1\n",
    "\n",
    "따라서 이 점화식을 토대로 bottom-up 다이나믹 프로그래밍으로 소스코드를 작성해보자."
   ]
  },
  {
   "cell_type": "markdown",
   "id": "5ee352f8",
   "metadata": {},
   "source": [
    "## 3) 코드"
   ]
  },
  {
   "cell_type": "code",
   "execution_count": null,
   "id": "53a9a05a",
   "metadata": {},
   "outputs": [],
   "source": [
    "# 정수 X를 입력받기\n",
    "x = int(input())\n",
    "\n",
    "# 앞서 계산된 결과를 저장하기 위한 DP 테이블 초기화\n",
    "d = [0] * 30001\n",
    "\n",
    "# 다이나믹 프로그래밍(Dynamic Programming) 진행(보텀업)\n",
    "for i in range(2, x+1):\n",
    "    # 현재의 수에서 1을 빼는 경우\n",
    "    d[i] = d[i-1] + 1\n",
    "    # 현재의 수가 2로 나누어 떨어지는 경우\n",
    "    if i%2 == 0:\n",
    "        d[i] = min(d[i], d[i//2]+1)\n",
    "    # 현재의 수가 3로 나누어 떨어지는 경우\n",
    "    if i%3 == 0:\n",
    "        d[i] = min(d[i], d[i//3]+1)\n",
    "    # 현재의 수가 7로 나누어 떨어지는 경우\n",
    "    if i%5 == 0:\n",
    "        d[i] = min(d[i], d[i//7]+1)\n",
    "    \n",
    "print(d[x])"
   ]
  }
 ],
 "metadata": {
  "kernelspec": {
   "display_name": "Python 3 (ipykernel)",
   "language": "python",
   "name": "python3"
  },
  "language_info": {
   "codemirror_mode": {
    "name": "ipython",
    "version": 3
   },
   "file_extension": ".py",
   "mimetype": "text/x-python",
   "name": "python",
   "nbconvert_exporter": "python",
   "pygments_lexer": "ipython3",
   "version": "3.8.5"
  }
 },
 "nbformat": 4,
 "nbformat_minor": 5
}
