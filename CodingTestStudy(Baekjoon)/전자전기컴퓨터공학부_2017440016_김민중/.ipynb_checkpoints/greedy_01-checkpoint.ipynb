{
 "cells": [
  {
   "cell_type": "markdown",
   "id": "25db92e0",
   "metadata": {},
   "source": [
    "# 네카라쿠배 코딩테스트 스터디 최종 과제\n",
    "\n",
    "\n",
    "### 서울시립대학교 전자전기컴퓨터공학부 2017440016 김민중"
   ]
  },
  {
   "cell_type": "markdown",
   "id": "978ef083",
   "metadata": {},
   "source": [
    "# 1주차 Greedy 문제 01"
   ]
  },
  {
   "cell_type": "markdown",
   "id": "31b40d07",
   "metadata": {},
   "source": [
    "## 1) 문제 : 화폐 단위\n",
    "\n",
    "외계나라 A에는 화폐가 총 N종류이다. 화폐를 적절히 사용해서 그 가치의 합을 K로 만들려고 한다. 이때 필요한 화폐 개수의 최솟값을 구하는 프로그램을 작성하시오.\n",
    "\n",
    "- 입력 조건\n",
    "    - 첫째 줄에 N과 K가 주어진다. (1 ≤ N ≤ 10, 1 ≤ K ≤ 100,000,000)\n",
    "    - 둘째 줄부터 N개의 줄에 화폐의 가치가 오름차순으로 주어진다.\n",
    "    - 이때 둘째 줄에는 1이 오고 각 줄은 이전 줄의 배수인 수가 입력된다.\n",
    "- 출력 조건\n",
    "    - 첫째 줄에 K원을 만드는데 필요한 화폐 개수의 최솟값을 출력한다.\n",
    "- 예시\n",
    "    - 입력\n",
    "        \n",
    "        10 4200\n",
    "        \n",
    "        1\n",
    "        \n",
    "        5\n",
    "        \n",
    "        10\n",
    "        \n",
    "        50\n",
    "        \n",
    "        100\n",
    "        \n",
    "        500\n",
    "        \n",
    "        1000\n",
    "        \n",
    "        5000\n",
    "        \n",
    "        10000\n",
    "        \n",
    "        50000\n",
    "        \n",
    "    - 출력\n",
    "        \n",
    "        6        "
   ]
  },
  {
   "cell_type": "markdown",
   "id": "05040589",
   "metadata": {},
   "source": [
    "## 2) 풀이\n",
    "\n",
    "이 문제는 전형적인 greedy 문제이다. 큰 화폐 단위가 작은 화폐 단위의 배수이므로 가장 큰 화폐 단위부터 기준잡아 개수를 counting한다면 화폐 개수의 최솟값이 보장된다. 하지만 만약 큰 화폐 단위가 작은 화폐 단위의 배수가 아니라면 이와 같은 방식으로 문제를 풀면 안된다는 것을 주의해야 한다."
   ]
  },
  {
   "cell_type": "markdown",
   "id": "5ee352f8",
   "metadata": {},
   "source": [
    "## 3) 코드"
   ]
  },
  {
   "cell_type": "code",
   "execution_count": null,
   "id": "53a9a05a",
   "metadata": {},
   "outputs": [
    {
     "name": "stdout",
     "output_type": "stream",
     "text": [
      "10 4200\n",
      "1\n",
      "5\n",
      "10\n",
      "100\n"
     ]
    }
   ],
   "source": [
    "n, k = map(int, input().split())\n",
    "money = []\n",
    "for i in range(n):\n",
    "    money.append(int(input()))\n",
    "\n",
    "money.sort(reverse=True)\n",
    "\n",
    "count = 0\n",
    "for m in money:\n",
    "    if m <= k:\n",
    "        count += k//m\n",
    "        k = k%m\n",
    "    if k == 0:\n",
    "        break\n",
    "\n",
    "print(count)"
   ]
  }
 ],
 "metadata": {
  "kernelspec": {
   "display_name": "Python 3 (ipykernel)",
   "language": "python",
   "name": "python3"
  },
  "language_info": {
   "codemirror_mode": {
    "name": "ipython",
    "version": 3
   },
   "file_extension": ".py",
   "mimetype": "text/x-python",
   "name": "python",
   "nbconvert_exporter": "python",
   "pygments_lexer": "ipython3",
   "version": "3.8.5"
  }
 },
 "nbformat": 4,
 "nbformat_minor": 5
}
